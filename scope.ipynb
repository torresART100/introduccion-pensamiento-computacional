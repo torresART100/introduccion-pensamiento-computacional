{
 "cells": [
  {
   "cell_type": "markdown",
   "metadata": {},
   "source": [
    "## Video de youtube: https://www.youtube.com/watch?v=-c0h05cluQA"
   ]
  },
  {
   "cell_type": "code",
   "execution_count": 1,
   "metadata": {},
   "outputs": [
    {
     "name": "stdout",
     "output_type": "stream",
     "text": [
      "Soy una variable Global\n"
     ]
    }
   ],
   "source": [
    "## Ejemplo scope global: no se toma en cuenta la variable local.\n",
    "\n",
    "variable = \"Soy una variable Global\" # Es una variable global\n",
    "\n",
    "def funcion():\n",
    "    variable= \"Soy una variable local\" #Es una variable local porque está dentro de la función.\n",
    "\n",
    "print(variable) #El sistema imprime variable pero la Global dado que el print está fuera de la función def."
   ]
  },
  {
   "cell_type": "code",
   "execution_count": 3,
   "metadata": {},
   "outputs": [
    {
     "name": "stdout",
     "output_type": "stream",
     "text": [
      "PHP\n"
     ]
    }
   ],
   "source": [
    "## Ejemplo 2, scope local: variables dentro de diferentes funciones son diferentes variables incluso si tienen el mismo nombre.\n",
    "\n",
    "def funcion_uno():\n",
    "    variable = \"PHP\"\n",
    "    funcion_dos()\n",
    "    print(variable)\n",
    "\n",
    "def funcion_dos():\n",
    "    variable = \"Python\"\n",
    "\n",
    "funcion_uno()\n"
   ]
  },
  {
   "cell_type": "code",
   "execution_count": 4,
   "metadata": {},
   "outputs": [
    {
     "name": "stdout",
     "output_type": "stream",
     "text": [
      "Hola soy global\n",
      "Hola soy global\n"
     ]
    }
   ],
   "source": [
    "## Ejemplo 3: las variables globales sí pueden ser accedidas desde un ámbito local.\n",
    "\n",
    "def local():\n",
    "    print(mi_variable_global)\n",
    "\n",
    "mi_variable_global = \"Hola soy global\"\n",
    "\n",
    "print(mi_variable_global)\n",
    "local()"
   ]
  },
  {
   "cell_type": "code",
   "execution_count": 5,
   "metadata": {},
   "outputs": [
    {
     "name": "stdout",
     "output_type": "stream",
     "text": [
      "Hola soy global\n",
      "Soy un parametro\n"
     ]
    }
   ],
   "source": [
    "## Ejemplo 4: Tomará como prioridad el parametro que se le está pasando a la función.\n",
    "\n",
    "def local(mi_variable_global):\n",
    "    print(mi_variable_global)\n",
    "\n",
    "mi_variable_global = \"Hola soy global\"\n",
    "\n",
    "print(mi_variable_global)\n",
    "local(\"Soy un parametro\") #Python tomará como prioridad el parametro \"soy un parametro\" que se le está pasando a la función def al ser local.\n"
   ]
  },
  {
   "cell_type": "code",
   "execution_count": 6,
   "metadata": {},
   "outputs": [
    {
     "name": "stdout",
     "output_type": "stream",
     "text": [
      "Sou una variable Global\n",
      "Pero fui modificada desde la función\n"
     ]
    }
   ],
   "source": [
    "## Ejemplo 5: Modificar una variable global desde la variable local usando la palabra especial de python \"Global\".\n",
    "\n",
    "def mi_funcion_local():\n",
    "    global variable    # la palabra global indica que se usa la variable externa global y no la variable interna local de la función.\n",
    "    variable = \"Pero fui modificada desde la función\"\n",
    "\n",
    "variable = \"Sou una variable Global\" #Esta es una variable global\n",
    "print(variable)\n",
    "mi_funcion_local()\n",
    "print(variable) #Aquí el sistema al haber llamado previamente a la función \"mi_funcion_local\" y ser cambiada, va a imprimir la variable modificada en local.\n"
   ]
  }
 ],
 "metadata": {
  "interpreter": {
   "hash": "fc41203b57b623760cc82cd4c1237f85c68b9b8c4f74e211697d9dc097ceceab"
  },
  "kernelspec": {
   "display_name": "Python 3.9.7 ('base': conda)",
   "language": "python",
   "name": "python3"
  },
  "language_info": {
   "codemirror_mode": {
    "name": "ipython",
    "version": 3
   },
   "file_extension": ".py",
   "mimetype": "text/x-python",
   "name": "python",
   "nbconvert_exporter": "python",
   "pygments_lexer": "ipython3",
   "version": "3.9.7"
  },
  "orig_nbformat": 4
 },
 "nbformat": 4,
 "nbformat_minor": 2
}
